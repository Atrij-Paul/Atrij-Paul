{
  "nbformat": 4,
  "nbformat_minor": 0,
  "metadata": {
    "colab": {
      "provenance": [],
      "collapsed_sections": [],
      "authorship_tag": "ABX9TyNVQ7N67+eTRN99mNj+CkCn",
      "include_colab_link": true
    },
    "kernelspec": {
      "name": "python3",
      "display_name": "Python 3"
    },
    "language_info": {
      "name": "python"
    }
  },
  "cells": [
    {
      "cell_type": "markdown",
      "metadata": {
        "id": "view-in-github",
        "colab_type": "text"
      },
      "source": [
        "<a href=\"https://colab.research.google.com/github/Atrij-Paul/Atrij-Paul/blob/main/OCR.ipynb\" target=\"_parent\"><img src=\"https://colab.research.google.com/assets/colab-badge.svg\" alt=\"Open In Colab\"/></a>"
      ]
    },
    {
      "cell_type": "markdown",
      "source": [
        "#**OCR using Pytesseract**"
      ],
      "metadata": {
        "id": "QftsqaFoQmxA"
      }
    },
    {
      "cell_type": "code",
      "source": [
        "import cv2\n",
        "import numpy as np\n",
        "!pip install pytesseract\n",
        "import pytesseract\n",
        "\n",
        "pytesseract.pytesseract.tesseract_cmd = 'C:\\\\Program Files (x86)\\\\Tesseract-OCR\\\\tesseract.exe'"
      ],
      "metadata": {
        "id": "Gq72ubgVQ4U_"
      },
      "execution_count": null,
      "outputs": []
    },
    {
      "cell_type": "code",
      "source": [
        "font_scale = 1.5\n",
        "font = cv2.FONT_HERSHEY_PLAIN\n",
        "\n",
        "cap = cv2.VideoCapture(1)\n",
        "\n",
        "if not cap.isOpened():\n",
        "    cap = cv2.VideoCapture(0)\n",
        "if not cap.isOpened():\n",
        "    raise IOError(\"Cannot Open Video\")"
      ],
      "metadata": {
        "id": "v3So983cTXk3"
      },
      "execution_count": null,
      "outputs": []
    },
    {
      "cell_type": "code",
      "source": [
        "cntr = 0\n",
        "\n",
        "while True:\n",
        "    ret , frame = cap.read()\n",
        "    cntr = cntr + 1\n",
        "    if((cntr % 20) == 0):\n",
        "        imgH , imgW , _ = frame.shape\n",
        "        x1 , y1 , w1 , h1 = 0 , 0 , imgH , imgW\n",
        "        imgchar = pytesseract.image_to_string(frame)\n",
        "        imgboxes = pytesseract.image_to_boxes(frame)\n",
        "        for boxes in imgboxes.splitlines():\n",
        "            boxes = boxes.split(' ')\n",
        "            x , y , w , h = int(boxes[1]) , int(boxes[2]) , int(boxes[3]) , int(boxes[4])\n",
        "            cv2.rectangle(frame , (x , imgH - y) , (w , imgH - h) , (0 , 0 , 255) , 3)\n",
        "        cv2.putText(frame , imgchar , (x1 + int(w1/50) , y1 + int(h1 / 50)) , cv2.FONT_HERSHEY_SIMPLEX , 0.7 , (0 , 0 , 255) , 3) \n",
        "\n",
        "\n",
        "        cv2.imshow('Text Detection Tutorial' , frame)\n",
        "\n",
        "        if cv2.waitKey(2) & 0xFF == ord('q'):\n",
        "            break\n",
        " "
      ],
      "metadata": {
        "id": "Pgov6Dn8TeVY"
      },
      "execution_count": null,
      "outputs": []
    },
    {
      "cell_type": "code",
      "source": [
        "cap.release()\n",
        "cv2.destroyAllWindows()  "
      ],
      "metadata": {
        "id": "7SJNoB0oTrK-"
      },
      "execution_count": null,
      "outputs": []
    }
  ]
}